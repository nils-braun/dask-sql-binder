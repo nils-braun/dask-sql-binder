{
 "cells": [
  {
   "cell_type": "code",
   "execution_count": null,
   "metadata": {},
   "outputs": [],
   "source": [
    "from dask_sql import Context\n",
    "from dask.datasets import timeseries\n",
    "from dask.distributed import Client"
   ]
  },
  {
   "cell_type": "code",
   "execution_count": null,
   "metadata": {},
   "outputs": [],
   "source": [
    "# Create a context to hold the registered tables\n",
    "c = Context()"
   ]
  },
  {
   "cell_type": "code",
   "execution_count": null,
   "metadata": {},
   "outputs": [],
   "source": [
    "client = Client()\n",
    "client"
   ]
  },
  {
   "cell_type": "code",
   "execution_count": null,
   "metadata": {},
   "outputs": [],
   "source": [
    "# Load the data and register it in the context\n",
    "# This will give the table a name\n",
    "df = timeseries()\n",
    "c.register_dask_table(df, \"timeseries\")"
   ]
  },
  {
   "cell_type": "code",
   "execution_count": null,
   "metadata": {},
   "outputs": [],
   "source": [
    "# Now execute an SQL query. The result is a dask dataframe\n",
    "# The query looks for the id with the highest x for each name\n",
    "# (this is just random test data, but you could think of looking\n",
    "# for outliers in the sensor data)\n",
    "result = c.sql(\"\"\"\n",
    "    SELECT\n",
    "        lhs.name,\n",
    "        lhs.id,\n",
    "        lhs.x\n",
    "    FROM\n",
    "        timeseries AS lhs\n",
    "    JOIN\n",
    "        (\n",
    "            SELECT\n",
    "                name AS max_name,\n",
    "                MAX(x) AS max_x\n",
    "            FROM timeseries\n",
    "            GROUP BY name\n",
    "        ) AS rhs\n",
    "    ON\n",
    "        lhs.name = rhs.max_name AND\n",
    "        lhs.x = rhs.max_x\n",
    "\"\"\")"
   ]
  },
  {
   "cell_type": "code",
   "execution_count": null,
   "metadata": {},
   "outputs": [],
   "source": [
    "# Show the result...\n",
    "print(result.compute())"
   ]
  },
  {
   "cell_type": "code",
   "execution_count": null,
   "metadata": {},
   "outputs": [],
   "source": [
    "# ... or use it for any other dask calculation\n",
    "# (just an example, could also be done via SQL)\n",
    "print(result.x.mean().compute())"
   ]
  },
  {
   "cell_type": "code",
   "execution_count": null,
   "metadata": {},
   "outputs": [],
   "source": []
  }
 ],
 "metadata": {
  "kernelspec": {
   "display_name": "Python 3",
   "language": "python",
   "name": "python3"
  },
  "language_info": {
   "codemirror_mode": {
    "name": "ipython",
    "version": 3
   },
   "file_extension": ".py",
   "mimetype": "text/x-python",
   "name": "python",
   "nbconvert_exporter": "python",
   "pygments_lexer": "ipython3",
   "version": "3.8.6"
  }
 },
 "nbformat": 4,
 "nbformat_minor": 4
}
